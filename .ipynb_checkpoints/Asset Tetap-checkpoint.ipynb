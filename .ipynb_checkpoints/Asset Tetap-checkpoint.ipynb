{
 "cells": [
  {
   "cell_type": "markdown",
   "metadata": {},
   "source": [
    "# Asset Tetap\n",
    "\n",
    "---\n",
    "\n",
    "@rokugatsua"
   ]
  },
  {
   "cell_type": "markdown",
   "metadata": {},
   "source": [
    "## Pengertian dan Karakteristik aset tetap\n",
    "\n",
    "-----\n",
    "\n",
    "(Perlu di definisikan)\n",
    "\n",
    "### Karakteristik aset tetap\n",
    "\n",
    "suatu aset dapat dikelompokjan sebagai aset tetap apabila memenuhi karakteristik sebagai berikut:\n",
    "1. Berwujud ( _tangible asset_ )\n",
    "2. Umurnya lebih dari satu hatun ( _aged more than one year_ )\n",
    "3. Digunakan dalam operasi perusahaan ( _used in the company's operations_ )\n",
    "4. Tidak diperjualbelikan ( _not for sale_ )\n",
    "5. Material ( _material_ )\n",
    "6. Dimiliki perusahaan ( _owned companies_ )"
   ]
  },
  {
   "cell_type": "markdown",
   "metadata": {},
   "source": [
    "### Pengelompokan aset tetap\n",
    "\n",
    "Dari berbagai aset tetap yang dimiliki perusahaan, untuk tujuan akuntansi dapat dikelompokkan ke dalam beberapa kelompok:\n",
    "1. aset tetap yang umurnya tidak terbatas\n",
    "2. aset tetap yang umurnya terbatas dan apabila sudah habis masa manfaatnya bisa diganti dengan aset lain yang sejenis.\n",
    "3. aset tetap yang umurnya terbatas dan apabila sudah habis masa manfaatnya tidak dapat diganti dengan yang sejenis."
   ]
  },
  {
   "cell_type": "markdown",
   "metadata": {},
   "source": [
    "## Pengakuan dan Pencatatan\n",
    "---\n",
    "biaya perolehan aset tetap adalah setara harga tunainya pada tanggal pengakuan. jika biaya yang ditangguhkan lebih dari waktu kredit normal, maka biaya perolehan adalah nilai tunai masa akan datang."
   ]
  },
  {
   "cell_type": "markdown",
   "metadata": {},
   "source": [
    "## Cara-cara Memperoleh Aset Tetap\n",
    "\n",
    "aset tetap dapat diperoleh dengan berbagai cara, masing-masing cara perolehan aset tetap akan mempengaruhi penentuan biaya perolehannya. cara perolehan tersebut antara lain, yaitu:\n",
    "1. Pembelian tunai\n",
    "2. Pembelian angsuran\n",
    "3. Diperoleh sebagai donasi\n",
    "4. Ditukar dengan surat berharga\n",
    "5. Ditukar dengan aset tetap yang lain\n",
    "6. Membangun atau membuat sendiri"
   ]
  },
  {
   "cell_type": "markdown",
   "metadata": {},
   "source": [
    "## Beban-Beban selama pengunaan asset tetap\n",
    "\n",
    "Pengeluaran-pengeluaran yang terjadi selama masa penggunaan aset tersebut dapat memenuhi kebutuhan perusahaan. Pengeluaran-pengeluaran tersebut dibagi menjadi dua kelompok pengeluaran, yaitu pengeluaran modal ( _capital expenditure_ ) dan pengeluaran pendapatan ( _revenue expenditure_ ).\n",
    "\n",
    "1. Pengeluaran modal ( _capital expenditure_ )\n",
    "  * Pergantian\n",
    "  * Penambahan\n",
    "\n",
    "\n",
    "2. Pengeluaran pendapatan ( _revenue expenditure_ )  \n",
    "  * Reparasi dan pemeliharaan\n",
    "  * Perbaikan\n",
    "  "
   ]
  },
  {
   "cell_type": "markdown",
   "metadata": {},
   "source": [
    "## Penysutan dan Faktor-Faktor yang Mempengaruhi Penyusutan\n",
    "\n",
    "Penyusutan adalah alokasi sistematis dari "
   ]
  },
  {
   "cell_type": "markdown",
   "metadata": {},
   "source": [
    "### Metode Perhitungan Penyusutan"
   ]
  },
  {
   "cell_type": "markdown",
   "metadata": {},
   "source": [
    "## Pertukaran Aset Tetap"
   ]
  },
  {
   "cell_type": "markdown",
   "metadata": {},
   "source": [
    "## Deplesi"
   ]
  },
  {
   "cell_type": "code",
   "execution_count": null,
   "metadata": {},
   "outputs": [],
   "source": []
  }
 ],
 "metadata": {
  "kernelspec": {
   "display_name": "Python 3.7.7 64-bit ('base': conda)",
   "language": "python",
   "name": "python37764bitbaseconda0844dc30e1fa454cab77ac2b43b62852"
  },
  "language_info": {
   "codemirror_mode": {
    "name": "ipython",
    "version": 3
   },
   "file_extension": ".py",
   "mimetype": "text/x-python",
   "name": "python",
   "nbconvert_exporter": "python",
   "pygments_lexer": "ipython3",
   "version": "3.7.7"
  }
 },
 "nbformat": 4,
 "nbformat_minor": 4
}
