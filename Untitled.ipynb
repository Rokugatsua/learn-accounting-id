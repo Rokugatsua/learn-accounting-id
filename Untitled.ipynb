{
 "cells": [
  {
   "cell_type": "markdown",
   "metadata": {},
   "source": [
    "# Asset Tetap"
   ]
  },
  {
   "cell_type": "markdown",
   "metadata": {},
   "source": [
    "## Pengertian dan Karakteristik aset tetap\n",
    "\n",
    "-----\n",
    "(Perlu di definisikan)\n",
    "\n",
    "### Karakteristik aset tetap\n",
    "\n",
    "suatu aset dapat dikelompokjan sebagai aset tetap apabila memenuhi karakteristik sebagai berikut:\n",
    "1. Berwujud ( _tangible asset_ )\n",
    "2. Umurnya lebih dari satu hatun ( _aged more than one year_ )\n",
    "3. Digunakan dalam operasi perusahaan ( _used in the company's operations_ )\n",
    "4. Tidak diperjualbelikan ( _not for sale_ )\n",
    "5. Material ( _material_ )\n",
    "6. Dimiliki perusahaan ( _owned companies_ )"
   ]
  },
  {
   "cell_type": "markdown",
   "metadata": {},
   "source": [
    "## Pengelompokan aset tetap"
   ]
  },
  {
   "cell_type": "markdown",
   "metadata": {},
   "source": [
    "## pengakuan dan Pencatatan"
   ]
  },
  {
   "cell_type": "markdown",
   "metadata": {},
   "source": [
    "## Cara-cara Memperoleh Aset Tetap"
   ]
  },
  {
   "cell_type": "markdown",
   "metadata": {},
   "source": [
    "## Beban-Beban selama pengunaan asset tetap"
   ]
  },
  {
   "cell_type": "markdown",
   "metadata": {},
   "source": [
    "## Penysutan dan Faktor-Faktor yang Mempengaruhi Penyusutan"
   ]
  },
  {
   "cell_type": "markdown",
   "metadata": {},
   "source": [
    "### Metode Perhitungan Penyusutan"
   ]
  },
  {
   "cell_type": "markdown",
   "metadata": {},
   "source": [
    "## Pertukaran Aset Tetap"
   ]
  },
  {
   "cell_type": "markdown",
   "metadata": {},
   "source": [
    "## Deplesi"
   ]
  },
  {
   "cell_type": "code",
   "execution_count": null,
   "metadata": {},
   "outputs": [],
   "source": []
  }
 ],
 "metadata": {
  "kernelspec": {
   "display_name": "Python 3.7.7 64-bit ('base': conda)",
   "language": "python",
   "name": "python37764bitbaseconda0844dc30e1fa454cab77ac2b43b62852"
  },
  "language_info": {
   "codemirror_mode": {
    "name": "ipython",
    "version": 3
   },
   "file_extension": ".py",
   "mimetype": "text/x-python",
   "name": "python",
   "nbconvert_exporter": "python",
   "pygments_lexer": "ipython3",
   "version": "3.7.7"
  }
 },
 "nbformat": 4,
 "nbformat_minor": 4
}
